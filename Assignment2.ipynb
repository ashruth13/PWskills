{
 "cells": [
  {
   "cell_type": "markdown",
   "id": "df341088-0a97-43c4-9f80-d2f612375a2a",
   "metadata": {},
   "source": [
    "Q1. How do you comment code in Python? What are the different types of comments?"
   ]
  },
  {
   "cell_type": "code",
   "execution_count": null,
   "id": "7b18d2d3-412c-40a4-aea5-15a5f0b34be3",
   "metadata": {},
   "outputs": [],
   "source": [
    "commenting code is of 3 types\n",
    "1) Single line comment :\n",
    "    #This is single line\n",
    "2) Multi line comment :\n",
    "    #this is multi line\n",
    "    #this is multi line\n",
    "3) DocString comment:\n",
    "    '''this \n",
    "    is \n",
    "    doc \n",
    "    string\n",
    "    '''"
   ]
  },
  {
   "cell_type": "markdown",
   "id": "003b81bf-d17e-4e2c-8562-3b7e3eaeb5b5",
   "metadata": {},
   "source": [
    "Q2. What are variables in Python? How do you declare and assign values to variables?"
   ]
  },
  {
   "cell_type": "markdown",
   "id": "fc78fb11-5218-4513-bbac-d1430b977a54",
   "metadata": {},
   "source": [
    "In Python, variables are used to store data values. They act as placeholders or containers that can hold different types of information such as numbers and strings.\n",
    "Variables are assigned with assignment operator (=)"
   ]
  },
  {
   "cell_type": "code",
   "execution_count": 2,
   "id": "61f64836-0264-4ec1-bc30-40e3cfcb6b62",
   "metadata": {},
   "outputs": [],
   "source": [
    "name = \"John\"        # string variable\n",
    "age = 25             # integer variable\n",
    "height = 1.75        # float variable\n",
    "is_student = True    # boolean variable\n"
   ]
  },
  {
   "cell_type": "markdown",
   "id": "23d30708-9453-4091-99a3-66ac5f768221",
   "metadata": {},
   "source": [
    "Q3. How do you convert one data type to another in Python?"
   ]
  },
  {
   "cell_type": "markdown",
   "id": "ac72786b-6ae3-410b-b5b1-e9e8a1fbe4f5",
   "metadata": {},
   "source": [
    "By using type conversion functions we can do that. int(),float(),str(),bool(),set(),tuple(),list() etc.\n"
   ]
  },
  {
   "cell_type": "code",
   "execution_count": 3,
   "id": "bd776914-a07e-47e6-b13f-94c42667bd05",
   "metadata": {},
   "outputs": [],
   "source": [
    "x = int(3.14)   # x will be 3\n",
    "z = str(10)     # z will be \"10\"\n",
    "a = bool(0)     # a will be False\n",
    "b = list((1, 2, 3))  # b will be [1, 2, 3]\n",
    "d = set([1, 2, 3])    # d will be {1, 2, 3}"
   ]
  },
  {
   "cell_type": "markdown",
   "id": "54ed0c02-e629-44d5-b18e-d9545fe50f39",
   "metadata": {},
   "source": [
    "Q4. How do you write and execute a Python script from the command line?"
   ]
  },
  {
   "cell_type": "raw",
   "id": "6f1d0182-39c4-49b8-a5f4-69b4f44a15d2",
   "metadata": {},
   "source": [
    "write code in the file and save with extension \".py\"\n",
    "change directory where python scripit is saved\n",
    "type \"python filename.py\" \n",
    "(program is executed)"
   ]
  },
  {
   "cell_type": "markdown",
   "id": "e805ff6b-d258-4cdf-bb6d-5810b787a58e",
   "metadata": {},
   "source": [
    "Q5. Given a list my_list = [1, 2, 3, 4, 5], write the code to slice the list and obtain the sub-list [2, 3]."
   ]
  },
  {
   "cell_type": "code",
   "execution_count": 5,
   "id": "a3df9b95-dca4-469f-8355-857e6e7f799f",
   "metadata": {},
   "outputs": [
    {
     "data": {
      "text/plain": [
       "[2, 3]"
      ]
     },
     "execution_count": 5,
     "metadata": {},
     "output_type": "execute_result"
    }
   ],
   "source": [
    "my_list = [1,2,3,4,5]\n",
    "my_list[1:3]"
   ]
  },
  {
   "cell_type": "markdown",
   "id": "5011f154-d9d1-4725-a1ac-9976cd3f129b",
   "metadata": {},
   "source": [
    "Q6. What is a complex number in mathematics, and how is it represented in Python?"
   ]
  },
  {
   "cell_type": "markdown",
   "id": "f15fade5-4bb1-4505-9466-8c100bfcdfbf",
   "metadata": {},
   "source": [
    " A complex number is a number that consists of a real part and an imaginary part. It is represented in the form \"a + bi\"."
   ]
  },
  {
   "cell_type": "code",
   "execution_count": 9,
   "id": "1d8d1743-e84f-4da3-9484-7529e7f61a6c",
   "metadata": {},
   "outputs": [
    {
     "data": {
      "text/plain": [
       "complex"
      ]
     },
     "execution_count": 9,
     "metadata": {},
     "output_type": "execute_result"
    }
   ],
   "source": [
    "a = 4+5j\n",
    "type(a)"
   ]
  },
  {
   "cell_type": "code",
   "execution_count": 10,
   "id": "dc5969e2-e978-47f2-bb8d-0b5d8ab3ec9f",
   "metadata": {},
   "outputs": [
    {
     "data": {
      "text/plain": [
       "4.0"
      ]
     },
     "execution_count": 10,
     "metadata": {},
     "output_type": "execute_result"
    }
   ],
   "source": [
    "a.real"
   ]
  },
  {
   "cell_type": "code",
   "execution_count": 11,
   "id": "3c58bd74-a489-4e0f-aa1e-a9b94c0d88ec",
   "metadata": {},
   "outputs": [
    {
     "data": {
      "text/plain": [
       "5.0"
      ]
     },
     "execution_count": 11,
     "metadata": {},
     "output_type": "execute_result"
    }
   ],
   "source": [
    "a.imag"
   ]
  },
  {
   "cell_type": "markdown",
   "id": "09941233-06c0-40fd-98f7-0d7544e59afb",
   "metadata": {},
   "source": [
    "Q7. What is the correct way to declare a variable named age and assign the value 25 to it?"
   ]
  },
  {
   "cell_type": "code",
   "execution_count": 12,
   "id": "c32d1402-2e65-4ae3-9263-984caba8f505",
   "metadata": {},
   "outputs": [],
   "source": [
    "age = 25"
   ]
  },
  {
   "cell_type": "code",
   "execution_count": 14,
   "id": "199f4a10-46a4-4597-a53f-e5c885da1a2f",
   "metadata": {},
   "outputs": [
    {
     "name": "stdout",
     "output_type": "stream",
     "text": [
      "25\n"
     ]
    }
   ],
   "source": [
    "print(age)"
   ]
  },
  {
   "cell_type": "markdown",
   "id": "53d635b1-50fe-4e69-afc2-6bdc6c9468ed",
   "metadata": {},
   "source": [
    "Q8. Declare a variable named price and assign the value 9.99 to it. What data type does this variable\n",
    "belong to?"
   ]
  },
  {
   "cell_type": "code",
   "execution_count": 15,
   "id": "67cd9366-43c9-4536-bc1b-c8433abe6b7e",
   "metadata": {},
   "outputs": [
    {
     "name": "stdout",
     "output_type": "stream",
     "text": [
      "<class 'float'>\n"
     ]
    }
   ],
   "source": [
    "price = 9.99\n",
    "print(type(price))"
   ]
  },
  {
   "cell_type": "markdown",
   "id": "85942b85-1a21-4c78-9b18-365969dd9a80",
   "metadata": {},
   "source": [
    "Q9. Create a variable named name and assign your full name to it as a string. How would you print the\n",
    "value of this variable?"
   ]
  },
  {
   "cell_type": "code",
   "execution_count": 16,
   "id": "b2a4b74d-4207-461d-9bd2-bbaf6658049a",
   "metadata": {},
   "outputs": [
    {
     "name": "stdout",
     "output_type": "stream",
     "text": [
      "Ashruth Naga\n"
     ]
    }
   ],
   "source": [
    "name = \"Ashruth Naga\"\n",
    "print(name)"
   ]
  },
  {
   "cell_type": "markdown",
   "id": "01d563a2-05cc-4280-8e4d-f3760231c4a4",
   "metadata": {},
   "source": [
    "Q10. Given the string \"Hello, World!\", extract the substring \"World\"."
   ]
  },
  {
   "cell_type": "code",
   "execution_count": 18,
   "id": "af2e4328-673a-4cc7-b985-170b21fcf8a4",
   "metadata": {},
   "outputs": [
    {
     "name": "stdout",
     "output_type": "stream",
     "text": [
      "World\n"
     ]
    }
   ],
   "source": [
    "a = \"Hello, World!\"\n",
    "print(a[7:12])"
   ]
  },
  {
   "cell_type": "markdown",
   "id": "95e38e29-fda5-42f1-a08e-c9a509ff7359",
   "metadata": {},
   "source": [
    "Q11. Create a variable named \"is_student\" and assign it a boolean value indicating whether you are\n",
    "currently a student or not."
   ]
  },
  {
   "cell_type": "code",
   "execution_count": 19,
   "id": "f128008c-f0a5-487a-ad99-52472ab19c28",
   "metadata": {},
   "outputs": [
    {
     "name": "stdout",
     "output_type": "stream",
     "text": [
      "True\n"
     ]
    }
   ],
   "source": [
    "is_student = True\n",
    "print(is_student)"
   ]
  },
  {
   "cell_type": "code",
   "execution_count": null,
   "id": "4f2efa5b-89db-4f0a-8f9b-f5056b8c1dc8",
   "metadata": {},
   "outputs": [],
   "source": []
  }
 ],
 "metadata": {
  "kernelspec": {
   "display_name": "Python 3 (ipykernel)",
   "language": "python",
   "name": "python3"
  },
  "language_info": {
   "codemirror_mode": {
    "name": "ipython",
    "version": 3
   },
   "file_extension": ".py",
   "mimetype": "text/x-python",
   "name": "python",
   "nbconvert_exporter": "python",
   "pygments_lexer": "ipython3",
   "version": "3.10.8"
  }
 },
 "nbformat": 4,
 "nbformat_minor": 5
}
