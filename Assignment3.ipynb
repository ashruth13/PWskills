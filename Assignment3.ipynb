{
 "cells": [
  {
   "cell_type": "markdown",
   "id": "8386cd38-43cb-4abb-8c16-43da28fc2a40",
   "metadata": {},
   "source": [
    "Q1. Which keyword is used to create a function? Create a function to return a list of odd numbers in the\n",
    "range of 1 to 25."
   ]
  },
  {
   "cell_type": "code",
   "execution_count": 1,
   "id": "d1b0e59a-b9e0-4aef-b047-a58299b7be49",
   "metadata": {},
   "outputs": [],
   "source": [
    "# def is used to create a function\n",
    "\n",
    "def odd_numbers(n):\n",
    "    l = []\n",
    "    for i in range(1,n+1):\n",
    "        if i%2!=0:\n",
    "            l.append(i)\n",
    "    return l"
   ]
  },
  {
   "cell_type": "code",
   "execution_count": 2,
   "id": "e9d4ef24-84e6-4ace-8c1a-4f75ffc3f283",
   "metadata": {},
   "outputs": [
    {
     "data": {
      "text/plain": [
       "[1, 3, 5, 7, 9, 11, 13, 15, 17, 19, 21, 23, 25]"
      ]
     },
     "execution_count": 2,
     "metadata": {},
     "output_type": "execute_result"
    }
   ],
   "source": [
    "odd_numbers(25)"
   ]
  },
  {
   "cell_type": "markdown",
   "id": "e1e6434b-1d67-49de-afad-dd3e5376fe08",
   "metadata": {},
   "source": [
    "Q2. Why *args and **kwargs is used in some functions? Create a function each for *args and **kwargs to\n",
    "demonstrate their use."
   ]
  },
  {
   "cell_type": "code",
   "execution_count": 9,
   "id": "e3c23b6b-4f04-41d0-9515-716941d13d01",
   "metadata": {},
   "outputs": [],
   "source": [
    "''' *args is used to pass variable number of arguments. Name args can be changed but asterisk is required.\n",
    "When you use *args in a function definition, it allows the function to accept any number of arguments.\n",
    "These arguments are then accessible inside the function as a tuple.''' \n",
    "\n",
    "def my_function(*args):\n",
    "    for arg in args:\n",
    "        print(arg)\n",
    "\n",
    "\n",
    "'''**kwargs allows you to pass a variable number of keyword arguments (or named arguments) to a function.These arguments are \n",
    "then accessible inside the function as a dictionary, where the keys are the argument names and the values are the\n",
    "corresponding values passed to the function.'''\n",
    "\n",
    "def my_fun(**kwargs):\n",
    "    for key, value in kwargs.items():\n",
    "        print(key, value)\n",
    "    print(kwargs)\n",
    "\n",
    "  # Output: country USA  language English\n"
   ]
  },
  {
   "cell_type": "code",
   "execution_count": 10,
   "id": "ce7579ec-bf65-49ff-906d-a48e44e1bdbb",
   "metadata": {},
   "outputs": [
    {
     "name": "stdout",
     "output_type": "stream",
     "text": [
      "1\n",
      "2\n",
      "3\n",
      "name Alice\n",
      "age 25\n",
      "{'name': 'Alice', 'age': 25}\n"
     ]
    }
   ],
   "source": [
    "my_function(1, 2, 3)\n",
    "my_fun(name='Alice', age=25)  "
   ]
  },
  {
   "cell_type": "markdown",
   "id": "4a29fe54-017b-4a9a-a64e-f34e7c66830d",
   "metadata": {},
   "source": [
    "Q3. What is an iterator in python? Name the method used to initialise the iterator object and the method\n",
    "used for iteration. Use these methods to print the first five elements of the given list [2, 4, 6, 8, 10, 12, 14, 16,\n",
    "18, 20]."
   ]
  },
  {
   "cell_type": "code",
   "execution_count": 12,
   "id": "f128205f-44ff-4bc7-a061-86422c02f390",
   "metadata": {},
   "outputs": [
    {
     "name": "stdout",
     "output_type": "stream",
     "text": [
      "2\n",
      "4\n",
      "6\n",
      "8\n",
      "10\n"
     ]
    }
   ],
   "source": [
    "#An iterator in Python is an object that implements the iterataion allowing you to traverse a sequence of elements.\n",
    "\n",
    "\n",
    "my_list = [2, 4, 6, 8, 10, 12, 14, 16, 18, 20]\n",
    "\n",
    "my_iterator = iter(my_list)\n",
    "\n",
    "for _ in range(5):\n",
    "    element = next(my_iterator)\n",
    "    print(element)\n"
   ]
  },
  {
   "cell_type": "markdown",
   "id": "d355c766-ec89-4fdd-b66b-24a53c4d605b",
   "metadata": {},
   "source": [
    "Q4 . What is a generator function in python? Why yield keyword is used? Give an example of a generator\n",
    "function."
   ]
  },
  {
   "cell_type": "code",
   "execution_count": 14,
   "id": "8ef9eab7-b30c-4a91-ae22-99e75bb3b278",
   "metadata": {},
   "outputs": [],
   "source": [
    "'''A generator function in Python is a special type of function that uses the yield keyword to generate a sequence of values one at a time. \n",
    "It is defined like a regular function but uses the yield statement to produce a value instead of using the return statement.'''\n",
    "def fibonacci_generator():\n",
    "    a, b = 0, 1\n",
    "    while True:\n",
    "        yield a\n",
    "        a, b = b, a + b\n",
    "\n"
   ]
  },
  {
   "cell_type": "code",
   "execution_count": 15,
   "id": "2dbf6acd-d060-4524-959f-4a9ea9a0ac17",
   "metadata": {},
   "outputs": [
    {
     "name": "stdout",
     "output_type": "stream",
     "text": [
      "0\n",
      "1\n",
      "1\n",
      "2\n",
      "3\n",
      "5\n",
      "8\n",
      "13\n",
      "21\n",
      "34\n"
     ]
    }
   ],
   "source": [
    "fibonacci = fibonacci_generator()\n",
    "for _ in range(10):\n",
    "    print(next(fibonacci))"
   ]
  },
  {
   "cell_type": "markdown",
   "id": "9ca455f1-48ac-428a-90e9-ac8c3f76812a",
   "metadata": {},
   "source": [
    "Q5. Create a generator function for prime numbers less than 1000. Use the next() method to print the\n",
    "first 20 prime numbers."
   ]
  },
  {
   "cell_type": "code",
   "execution_count": 32,
   "id": "fcc18229-d2fb-4951-b246-7937179be0fe",
   "metadata": {},
   "outputs": [],
   "source": [
    "def prime_generator():\n",
    "    primes = []\n",
    "    num = 2\n",
    "    while True:\n",
    "        is_prime = True\n",
    "        for prime in primes:\n",
    "            if prime * prime > num:\n",
    "                break\n",
    "            if num % prime == 0:\n",
    "                is_prime = False\n",
    "                break\n",
    "        if is_prime:\n",
    "            primes.append(num)\n",
    "            yield num\n",
    "        num += 1"
   ]
  },
  {
   "cell_type": "code",
   "execution_count": 33,
   "id": "eba0ee2e-c27b-4b21-98b3-123cbd019420",
   "metadata": {},
   "outputs": [
    {
     "name": "stdout",
     "output_type": "stream",
     "text": [
      "2\n",
      "3\n",
      "5\n",
      "7\n",
      "11\n",
      "13\n",
      "17\n",
      "19\n",
      "23\n",
      "29\n",
      "31\n",
      "37\n",
      "41\n",
      "43\n",
      "47\n",
      "53\n",
      "59\n",
      "61\n",
      "67\n",
      "71\n"
     ]
    }
   ],
   "source": [
    "\n",
    "prime_gen = prime_generator()\n",
    "for _ in range(20):\n",
    "    prime = next(prime_gen)\n",
    "    print(prime)"
   ]
  },
  {
   "cell_type": "code",
   "execution_count": null,
   "id": "404621cf-6ff7-4dbe-867e-075bc1b0d2a9",
   "metadata": {},
   "outputs": [],
   "source": []
  }
 ],
 "metadata": {
  "kernelspec": {
   "display_name": "Python 3 (ipykernel)",
   "language": "python",
   "name": "python3"
  },
  "language_info": {
   "codemirror_mode": {
    "name": "ipython",
    "version": 3
   },
   "file_extension": ".py",
   "mimetype": "text/x-python",
   "name": "python",
   "nbconvert_exporter": "python",
   "pygments_lexer": "ipython3",
   "version": "3.10.8"
  }
 },
 "nbformat": 4,
 "nbformat_minor": 5
}
